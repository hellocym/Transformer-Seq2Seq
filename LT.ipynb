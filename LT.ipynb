{
 "cells": [
  {
   "cell_type": "code",
   "execution_count": 1,
   "metadata": {},
   "outputs": [
    {
     "name": "stderr",
     "output_type": "stream",
     "text": [
      "[4pdvGPU Msg(38215:139933567227712:libvgpu.c:870)]: Initializing.....\n"
     ]
    }
   ],
   "source": [
    "import torch"
   ]
  },
  {
   "cell_type": "code",
   "execution_count": 2,
   "metadata": {},
   "outputs": [
    {
     "data": {
      "text/plain": [
       "torch.Size([5, 8])"
      ]
     },
     "execution_count": 2,
     "metadata": {},
     "output_type": "execute_result"
    }
   ],
   "source": [
    "L = 5\n",
    "d = 8\n",
    "target_length = 7\n",
    "\n",
    "z = torch.randn((L, d))\n",
    "z.shape"
   ]
  },
  {
   "cell_type": "code",
   "execution_count": null,
   "metadata": {},
   "outputs": [],
   "source": [
    "def weighted_sum_with_attention(x, sigma=1.0):\n",
    "    # Compute pairwise distance in the feature space.\n",
    "    x_norm = x.norm(dim=1)\n",
    "    lx = x_norm.size(0)\n",
    "    a = torch.empty(target_length, lx)\n",
    "\n",
    "    # Calculate the attention weights based on the negative squared distance.\n",
    "    for j in range(lx):\n",
    "        for k in range(lx):\n",
    "            a[j, k] = -1/(2*sigma**2) * (k - j)**2\n",
    "\n",
    "    # Compute the softmax of the attention weights along the rows.\n",
    "    w = F.softmax(a, dim=1)\n",
    "\n",
    "    # Compute the weighted sum.\n",
    "    z = torch.matmul(w, x)\n",
    "\n",
    "    return z\n",
    "\n",
    "# Call the function\n",
    "z_bar = weighted_sum_with_attention(z)\n",
    "z_bar"
   ]
  }
 ],
 "metadata": {
  "kernelspec": {
   "display_name": "base",
   "language": "python",
   "name": "python3"
  },
  "language_info": {
   "codemirror_mode": {
    "name": "ipython",
    "version": 3
   },
   "file_extension": ".py",
   "mimetype": "text/x-python",
   "name": "python",
   "nbconvert_exporter": "python",
   "pygments_lexer": "ipython3",
   "version": "3.11.4"
  },
  "orig_nbformat": 4
 },
 "nbformat": 4,
 "nbformat_minor": 2
}
