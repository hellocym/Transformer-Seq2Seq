{
 "cells": [
  {
   "cell_type": "code",
   "execution_count": 5,
   "metadata": {},
   "outputs": [],
   "source": [
    "import torch\n",
    "from torch.nn import functional as F"
   ]
  },
  {
   "cell_type": "code",
   "execution_count": 6,
   "metadata": {},
   "outputs": [
    {
     "data": {
      "text/plain": [
       "torch.Size([5, 8])"
      ]
     },
     "execution_count": 6,
     "metadata": {},
     "output_type": "execute_result"
    }
   ],
   "source": [
    "L = 5\n",
    "d = 8\n",
    "\n",
    "z = torch.randn((L, d))\n",
    "z.shape"
   ]
  },
  {
   "cell_type": "code",
   "execution_count": 12,
   "metadata": {},
   "outputs": [
    {
     "data": {
      "text/plain": [
       "torch.Size([7, 8])"
      ]
     },
     "execution_count": 12,
     "metadata": {},
     "output_type": "execute_result"
    }
   ],
   "source": [
    "def LT(x, target_length, sigma=1.0):\n",
    "    # Compute pairwise distance in the feature space.\n",
    "    x_norm = x.norm(dim=1)\n",
    "    lx = x_norm.size(0)\n",
    "    a = torch.empty(target_length, lx)\n",
    "\n",
    "    # Calculate the attention weights based on the negative squared distance.\n",
    "    for j in range(lx):\n",
    "        for k in range(lx):\n",
    "            a[j, k] = -1/(2*sigma**2) * (k - j)**2\n",
    "\n",
    "    # Compute the softmax of the attention weights along the rows.\n",
    "    w = F.softmax(a, dim=1)\n",
    "\n",
    "    # Compute the weighted sum.\n",
    "    z = torch.matmul(w, x)\n",
    "\n",
    "    return z\n",
    "\n",
    "L = 5\n",
    "d = 8\n",
    "\n",
    "z = torch.randn((L, d))\n",
    "z.shape\n",
    "\n",
    "\n",
    "# Call the function\n",
    "z_bar = LT(z, target_length=7)\n",
    "z_bar.shape"
   ]
  },
  {
   "cell_type": "code",
   "execution_count": 3,
   "metadata": {},
   "outputs": [
    {
     "name": "stdout",
     "output_type": "stream",
     "text": [
      "torch.Size([10, 128, 512])\n"
     ]
    }
   ],
   "source": [
    "import torch\n",
    "import torch.nn.functional as F\n",
    "\n",
    "def LT(x, target_length, sigma=1.0):\n",
    "    # x is expected to have shape (length, batch, dim)\n",
    "    length, batch, dim = x.shape\n",
    "    \n",
    "    # Creating the squared distance matrix for a range of indices\n",
    "    j = torch.arange(target_length).unsqueeze(1).repeat(1, length)   # Shape: (target_length, length)\n",
    "    k = torch.arange(length).unsqueeze(0).repeat(target_length, 1)  # Shape: (target_length, length)\n",
    "    squared_distance = -((k - j)**2) / (2 * sigma**2)               # Shape: (target_length, length)\n",
    "    \n",
    "    # Broadcasting squared_distance across batch dimension\n",
    "    a = squared_distance.unsqueeze(2).repeat(1, 1, batch)           # Shape: (target_length, length, batch)\n",
    "    \n",
    "    # Softmax across the 'length' dimension\n",
    "    w = F.softmax(a, dim=1)\n",
    "    \n",
    "    # Re-arranging x to perform batched matrix multiplication: (batch, dim, length)\n",
    "    x_perm = x.permute(1, 2, 0)\n",
    "    \n",
    "    # Matrix multiplication along the specified dimensions: (batch, dim, target_length)\n",
    "    z = torch.bmm(x_perm, w.permute(2, 1, 0))\n",
    "    \n",
    "    # Re-arrange back to the desired output shape: (target_length, batch, dim)\n",
    "    z = z.permute(2, 0, 1)\n",
    "\n",
    "    return z\n",
    "\n",
    "# Example usage\n",
    "L = 35\n",
    "d = 512\n",
    "b = 128  # batch size\n",
    "\n",
    "# Random tensor with (length, batch, dim)\n",
    "x = torch.randn((L, b, d))\n",
    "\n",
    "# Call the function\n",
    "z_bar = LT(x, target_length=10)\n",
    "print(z_bar.shape)  # Expected shape: (7, b, d)"
   ]
  },
  {
   "cell_type": "code",
   "execution_count": null,
   "metadata": {},
   "outputs": [],
   "source": []
  }
 ],
 "metadata": {
  "kernelspec": {
   "display_name": "base",
   "language": "python",
   "name": "python3"
  },
  "language_info": {
   "codemirror_mode": {
    "name": "ipython",
    "version": 3
   },
   "file_extension": ".py",
   "mimetype": "text/x-python",
   "name": "python",
   "nbconvert_exporter": "python",
   "pygments_lexer": "ipython3",
   "version": "3.11.4"
  },
  "orig_nbformat": 4
 },
 "nbformat": 4,
 "nbformat_minor": 2
}
